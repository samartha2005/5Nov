{
 "cells": [
  {
   "cell_type": "code",
   "execution_count": null,
   "id": "d8d2edd7-6ad1-4d42-829d-416c901296d4",
   "metadata": {},
   "outputs": [],
   "source": [
    "     # recurrence relation,"
   ]
  },
  {
   "cell_type": "code",
   "execution_count": 2,
   "id": "95f2c0ac-92f0-4c93-a71f-a6117fe009c1",
   "metadata": {},
   "outputs": [
    {
     "name": "stdout",
     "output_type": "stream",
     "text": [
      "T(2) = 105\n"
     ]
    }
   ],
   "source": [
    "'''1. Find the value of T(2) for the recurrence relation T(n) = 3T(n-1) + 12n, given that T(0)=5.'''\n",
    "\n",
    "\n",
    "# Ans\n",
    "def recurrence_relation(n):\n",
    "    if n == 0:\n",
    "        return 5\n",
    "    else:\n",
    "        return 3 * recurrence_relation(n - 1) + 12 * n\n",
    "\n",
    "# Calculate T(2)\n",
    "result = recurrence_relation(2)\n",
    "print(\"T(2) =\", result)"
   ]
  },
  {
   "cell_type": "code",
   "execution_count": 6,
   "id": "36c666b1-5758-49f2-815d-5e1403705cc1",
   "metadata": {},
   "outputs": [
    {
     "name": "stdout",
     "output_type": "stream",
     "text": [
      "a. T(5) = 10\n",
      "b. T(8) = 32\n",
      "c. T(4) = 21\n",
      "d. T(16) = 20\n"
     ]
    }
   ],
   "source": [
    "'''2. Given a recurrence relation, solve it using the substitution method:\n",
    "a. T(n) = T(n-1) + c\n",
    "b. T(n) = 2T(n/2) + n\n",
    "c. T(n) = 2T(n/2) + c\n",
    "d. T(n) = T(n/2) + c'''\n",
    "\n",
    "# ans \n",
    "'''\n",
    "a.T(n)=T(n−1)+c\n",
    "Let's make the substitution S(n)=T(n)+cn:\n",
    "S(n)=T(n)+cn\n",
    "S(n−1)=T(n−1)+c(n−1)\n",
    "Substitute these back into the original relation:\n",
    "T(n)+cn=T(n−1)+c(n−1)+c\n",
    "\n",
    "Simplify:\n",
    "T(n)=T(n−1)+c(n−1)\n",
    "This is the same as the original relation, but with n replaced by n−1. \n",
    "We can continue making this substitution until we reach the base case.'''\n",
    " \n",
    "\n",
    "\n",
    "# code\n",
    "# a. T(n) = T(n-1) + c\n",
    "def recurrence_a(n, c):\n",
    "    if n == 0:\n",
    "        return 0\n",
    "    else:\n",
    "        return recurrence_a(n-1, c) + c\n",
    "\n",
    "# b. T(n) = 2T(n/2) + n\n",
    "def recurrence_b(n):\n",
    "    if n == 1:\n",
    "        return 1\n",
    "    else:\n",
    "        return 2 * recurrence_b(n // 2) + n\n",
    "\n",
    "# c. T(n) = 2T(n/2) + c\n",
    "def recurrence_c(n, c):\n",
    "    if n == 1:\n",
    "        return c\n",
    "    else:\n",
    "        return 2 * recurrence_c(n // 2, c) + c\n",
    "\n",
    "# d. T(n) = T(n/2) + c\n",
    "def recurrence_d(n, c):\n",
    "    if n == 1:\n",
    "        return c\n",
    "    else:\n",
    "        return recurrence_d(n // 2, c) + c\n",
    "\n",
    "# Test the solutions\n",
    "print(\"a. T(5) =\", recurrence_a(5, 2))\n",
    "print(\"b. T(8) =\", recurrence_b(8))\n",
    "print(\"c. T(4) =\", recurrence_c(4, 3))\n",
    "print(\"d. T(16) =\", recurrence_d(16, 4))"
   ]
  },
  {
   "cell_type": "code",
   "execution_count": 7,
   "id": "9012daf2-36ff-48b0-96ce-7f8049a69dca",
   "metadata": {},
   "outputs": [
    {
     "name": "stdout",
     "output_type": "stream",
     "text": [
      "a. T(3) = 15\n",
      "b. T(8) = 32\n"
     ]
    }
   ],
   "source": [
    "'''3. Given a recurrence relation, solve it using the recursive tree approach:\n",
    "a. T(n) = 2T(n-1) +1\n",
    "b. T(n) = 2T(n/2) + n'''\n",
    "\n",
    "# code a.T(n) = 2T(n-1) +1\n",
    "\n",
    "def recurrence_a(n):\n",
    "    if n == 0:\n",
    "        return 1\n",
    "    else:\n",
    "        return 2**n + recurrence_a(n-1)\n",
    "\n",
    "# Test the solution\n",
    "print(\"a. T(3) =\", recurrence_a(3))\n",
    "\n",
    "\n",
    "# code b.T(n) = 2T(n/2) + n\n",
    "def recurrence_b(n):\n",
    "    if n == 1:\n",
    "        return 1\n",
    "    else:\n",
    "        return n + 2 * recurrence_b(n // 2)\n",
    "\n",
    "# Test the solution\n",
    "print(\"b. T(8) =\", recurrence_b(8))\n"
   ]
  },
  {
   "cell_type": "code",
   "execution_count": null,
   "id": "e59aac95-bc0d-4db3-b0ee-8103076f581d",
   "metadata": {},
   "outputs": [],
   "source": []
  },
  {
   "cell_type": "code",
   "execution_count": null,
   "id": "8540aa44-8f61-49d7-aba3-0d5cd295aaf5",
   "metadata": {},
   "outputs": [],
   "source": []
  },
  {
   "cell_type": "code",
   "execution_count": null,
   "id": "6a0c74f0-7e45-43d9-8bd9-94088475127f",
   "metadata": {},
   "outputs": [],
   "source": []
  },
  {
   "cell_type": "code",
   "execution_count": null,
   "id": "61829110-fad1-45a2-988f-212256f1d7ed",
   "metadata": {},
   "outputs": [],
   "source": []
  }
 ],
 "metadata": {
  "kernelspec": {
   "display_name": "Python 3 (ipykernel)",
   "language": "python",
   "name": "python3"
  },
  "language_info": {
   "codemirror_mode": {
    "name": "ipython",
    "version": 3
   },
   "file_extension": ".py",
   "mimetype": "text/x-python",
   "name": "python",
   "nbconvert_exporter": "python",
   "pygments_lexer": "ipython3",
   "version": "3.10.8"
  }
 },
 "nbformat": 4,
 "nbformat_minor": 5
}
